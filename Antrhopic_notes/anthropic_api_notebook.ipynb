{
 "cells": [
  {
   "cell_type": "markdown",
   "id": "415ea42e",
   "metadata": {},
   "source": [
    "# Claude with the Anthropic API\n",
    "# Claude with the Anthropic API\n",
    "\n",
    "## Anthopic Overview\n",
    "\n",
    "### Model\n",
    "#### **Claude Opus**\n",
    "- most capable model\n",
    "    - complex requirements\n",
    "    - high level of intel\n",
    "    - work for a long time\n",
    "    - manages multi step process\n",
    "- supports reasoning\n",
    "- moderate latency\n",
    "- higher cost\n",
    "\n",
    "#### **Claude Sonnet**\n",
    "- balanced intel speed cost\n",
    "- most use cases\n",
    "- fast text gen\n",
    "- precise edits to complex code\n",
    "- doesnt break functionality\n",
    "#### **Haiku**\n",
    "- optimized for speed and cost\n",
    "- fastest model\n",
    "- doesn't support reasoning\n",
    "- quick code completes\n",
    "- real time interacts\n",
    "\n",
    "### How to choose\n",
    "- need to choose based on needs: Intelligence vs Speed vs Cost (Good Fast Cheap pick 2)\n",
    "- can use any or all 3 models in the same app\n",
    "  - use haiku for user facing\n",
    "  - sonnet for main logic\n",
    "  - opus for deeper reasoning\n",
    "\n",
    "## Accessing Claude via the API\n",
    "### **5 steps from prompt to response**\n",
    "1. Request to server\n",
    "- requests should not be made directly from client code\n",
    "- api key must remain secret\n",
    "- client requests are processed through a server the developer implements\n",
    "2. Request to anthropic api\n",
    "- requests go through an SDK or plain HTTP request\n",
    "- Includes API key, Model, Messages, Max Tokens\n",
    "3. model processing\n",
    "- tokenization - breaks up sentences and words to tokens\n",
    "- embedding - a vector representation of each token\n",
    "- contextualization - adjusts embeddings based on its neighbors\n",
    "- generation - final embeddings to an output layer that predicts probabilities of the next word\n",
    "  - stops when max tokens is reached\n",
    "  - stops when EOS (natural end) of a response\n",
    "4. response to server\n",
    "- response passed back through SDK and developer server\n",
    "  - contains\n",
    "    - message\n",
    "    - usage\n",
    "    - stop reason\n",
    "5. response to client\n",
    "- response passed back to the client\n",
    "\n",
    "### Basic API requests"
   ]
  },
  {
   "cell_type": "code",
   "execution_count": 1,
   "id": "bd41ed66",
   "metadata": {},
   "outputs": [
    {
     "name": "stdout",
     "output_type": "stream",
     "text": [
      "Requirement already satisfied: anthropic in c:\\users\\steve\\anaconda3\\lib\\site-packages (0.66.0)\n",
      "Requirement already satisfied: python-dotenv in c:\\users\\steve\\anaconda3\\lib\\site-packages (1.1.0)\n",
      "Requirement already satisfied: anyio<5,>=3.5.0 in c:\\users\\steve\\anaconda3\\lib\\site-packages (from anthropic) (4.7.0)\n",
      "Requirement already satisfied: distro<2,>=1.7.0 in c:\\users\\steve\\anaconda3\\lib\\site-packages (from anthropic) (1.9.0)\n",
      "Requirement already satisfied: httpx<1,>=0.25.0 in c:\\users\\steve\\anaconda3\\lib\\site-packages (from anthropic) (0.28.1)\n",
      "Requirement already satisfied: jiter<1,>=0.4.0 in c:\\users\\steve\\anaconda3\\lib\\site-packages (from anthropic) (0.10.0)\n",
      "Requirement already satisfied: pydantic<3,>=1.9.0 in c:\\users\\steve\\anaconda3\\lib\\site-packages (from anthropic) (2.10.3)\n",
      "Requirement already satisfied: sniffio in c:\\users\\steve\\anaconda3\\lib\\site-packages (from anthropic) (1.3.0)\n",
      "Requirement already satisfied: typing-extensions<5,>=4.10 in c:\\users\\steve\\anaconda3\\lib\\site-packages (from anthropic) (4.12.2)\n",
      "Requirement already satisfied: idna>=2.8 in c:\\users\\steve\\anaconda3\\lib\\site-packages (from anyio<5,>=3.5.0->anthropic) (3.7)\n",
      "Requirement already satisfied: certifi in c:\\users\\steve\\anaconda3\\lib\\site-packages (from httpx<1,>=0.25.0->anthropic) (2025.8.3)\n",
      "Requirement already satisfied: httpcore==1.* in c:\\users\\steve\\anaconda3\\lib\\site-packages (from httpx<1,>=0.25.0->anthropic) (1.0.9)\n",
      "Requirement already satisfied: h11>=0.16 in c:\\users\\steve\\anaconda3\\lib\\site-packages (from httpcore==1.*->httpx<1,>=0.25.0->anthropic) (0.16.0)\n",
      "Requirement already satisfied: annotated-types>=0.6.0 in c:\\users\\steve\\anaconda3\\lib\\site-packages (from pydantic<3,>=1.9.0->anthropic) (0.6.0)\n",
      "Requirement already satisfied: pydantic-core==2.27.1 in c:\\users\\steve\\anaconda3\\lib\\site-packages (from pydantic<3,>=1.9.0->anthropic) (2.27.1)\n",
      "Note: you may need to restart the kernel to use updated packages.\n"
     ]
    }
   ],
   "source": [
    "# install dependencies\n",
    "%pip install anthropic python-dotenv"
   ]
  },
  {
   "cell_type": "code",
   "execution_count": 2,
   "id": "4878b758",
   "metadata": {},
   "outputs": [
    {
     "data": {
      "text/plain": [
       "True"
      ]
     },
     "execution_count": 2,
     "metadata": {},
     "output_type": "execute_result"
    }
   ],
   "source": [
    "# load env vaiables\n",
    "from dotenv import load_dotenv\n",
    "\n",
    "load_dotenv()"
   ]
  },
  {
   "cell_type": "code",
   "execution_count": 3,
   "id": "a0892021",
   "metadata": {},
   "outputs": [],
   "source": [
    "# Create API Client\n",
    "from anthropic import Anthropic\n",
    "\n",
    "client = Anthropic()\n",
    "model=\"claude-sonnet-4-0\"\n"
   ]
  },
  {
   "cell_type": "code",
   "execution_count": 4,
   "id": "6a749f90",
   "metadata": {},
   "outputs": [],
   "source": [
    "# Create a request\n",
    "message = client.messages.create(\n",
    "    model=model,\n",
    "    max_tokens=100,\n",
    "    messages=[\n",
    "        {\n",
    "            'role': 'user',\n",
    "            'content': 'What is quantum computing? Answer in one sentence.'\n",
    "        }\n",
    "    ]\n",
    ")"
   ]
  },
  {
   "cell_type": "code",
   "execution_count": 5,
   "id": "6e2721c2",
   "metadata": {},
   "outputs": [
    {
     "data": {
      "text/plain": [
       "Message(id='msg_01T2oFEn7ZYEWujHVKYwNiTS', content=[TextBlock(citations=None, text='Quantum computing is a revolutionary computing paradigm that uses quantum mechanical phenomena like superposition and entanglement to process information in ways that can potentially solve certain problems exponentially faster than classical computers.', type='text')], model='claude-sonnet-4-20250514', role='assistant', stop_reason='end_turn', stop_sequence=None, type='message', usage=Usage(cache_creation=CacheCreation(ephemeral_1h_input_tokens=0, ephemeral_5m_input_tokens=0), cache_creation_input_tokens=0, cache_read_input_tokens=0, input_tokens=17, output_tokens=42, server_tool_use=None, service_tier='standard'))"
      ]
     },
     "execution_count": 5,
     "metadata": {},
     "output_type": "execute_result"
    }
   ],
   "source": [
    "# print the message\n",
    "message"
   ]
  },
  {
   "cell_type": "code",
   "execution_count": 6,
   "id": "dcfc4c64",
   "metadata": {},
   "outputs": [
    {
     "data": {
      "text/plain": [
       "'Quantum computing is a revolutionary computing paradigm that uses quantum mechanical phenomena like superposition and entanglement to process information in ways that can potentially solve certain problems exponentially faster than classical computers.'"
      ]
     },
     "execution_count": 6,
     "metadata": {},
     "output_type": "execute_result"
    }
   ],
   "source": [
    "# isolate just the generated text\n",
    "message.content[0].text"
   ]
  },
  {
   "cell_type": "markdown",
   "id": "a7f87b66",
   "metadata": {},
   "source": [
    "### Multi Turn Conversations\n",
    "- the API does not store any messages\n",
    "- to have a conversation:\n",
    "  - manually maintain a list of messages in the conversation\n",
    "  - provide that list with each new propmpt"
   ]
  },
  {
   "cell_type": "code",
   "execution_count": 8,
   "id": "f9097c88",
   "metadata": {},
   "outputs": [],
   "source": [
    "# helper function to keep a list of user messages\n",
    "def add_user_message(messages, text):\n",
    "    user_message = {\"role\": \"user\", \"content\": text}\n",
    "    messages.append(user_message)\n",
    "\n",
    "# helper to keep a list of assistant messages\n",
    "def add_assistant_message(messages, text):\n",
    "    assistant_message = {\"role\": \"assistant\", \"content\": text}\n",
    "    messages.append(assistant_message)\n",
    "\n",
    "# helper to send prompts with a list of all the messages\n",
    "def chat(messages):\n",
    "    message = client.messages.create(\n",
    "    model=model,\n",
    "    max_tokens=1000,\n",
    "    messages=messages          \n",
    "    )\n",
    "    return message.content[0].text\n",
    "\n",
    "\n"
   ]
  },
  {
   "cell_type": "code",
   "execution_count": 9,
   "id": "c63ae711",
   "metadata": {},
   "outputs": [
    {
     "name": "stdout",
     "output_type": "stream",
     "text": [
      "They excel at tasks like image recognition, natural language processing, and pattern detection by processing information through multiple layers that progressively extract and combine features.\n"
     ]
    }
   ],
   "source": [
    "# make a starting list of messages\n",
    "messages = []\n",
    "\n",
    "# add in the initial user question\n",
    "add_user_message(messages, \"Define neural networks in one sentence.\")\n",
    "\n",
    "# pass the list of messges into 'chat' to get an answer\n",
    "answer = chat(messages)\n",
    "\n",
    "# take the answer and add it as an assistant message in our list\n",
    "add_assistant_message(messages, answer)\n",
    "\n",
    "# add in the user's followup question\n",
    "add_user_message(messages, \"write another sentence\")\n",
    "\n",
    "# call chat again with the list of messages to get a final answer\n",
    "answer = chat(messages)\n",
    "print(answer)\n"
   ]
  },
  {
   "cell_type": "code",
   "execution_count": 13,
   "id": "a2e7d1d7",
   "metadata": {},
   "outputs": [
    {
     "name": "stdout",
     "output_type": "stream",
     "text": [
      "role: user\n",
      "content: Define neural networks in one sentence.\n",
      "role: assistant\n",
      "content: Neural networks are computational systems inspired by biological brains that use interconnected nodes (neurons) to learn patterns from data by adjusting connection weights through training.\n",
      "role: user\n",
      "content: write another sentence\n"
     ]
    }
   ],
   "source": [
    "for message in messages:\n",
    "    for key, val in message.items():\n",
    "        print(f\"{key}: {val}\")\n"
   ]
  },
  {
   "cell_type": "markdown",
   "id": "5fb026de",
   "metadata": {},
   "source": [
    "\n",
    "## Prompt evaluations \n",
    "\n",
    "## Prompt engineering\n",
    "\n",
    "## Tool Use\n",
    "\n",
    "## Retrieval Augmented Generation\n",
    "\n",
    "## Features of Claude\n",
    "\n",
    "## Model Context Protocol\n",
    "\n",
    "## Anthropic apps \n",
    "\n",
    "### Claude Code\n",
    "\n",
    "### Computer use\n",
    "\n",
    "## Agents and workflows"
   ]
  },
  {
   "cell_type": "code",
   "execution_count": null,
   "id": "05a1a146",
   "metadata": {},
   "outputs": [],
   "source": []
  }
 ],
 "metadata": {
  "kernelspec": {
   "display_name": "base",
   "language": "python",
   "name": "python3"
  },
  "language_info": {
   "codemirror_mode": {
    "name": "ipython",
    "version": 3
   },
   "file_extension": ".py",
   "mimetype": "text/x-python",
   "name": "python",
   "nbconvert_exporter": "python",
   "pygments_lexer": "ipython3",
   "version": "3.13.5"
  }
 },
 "nbformat": 4,
 "nbformat_minor": 5
}
