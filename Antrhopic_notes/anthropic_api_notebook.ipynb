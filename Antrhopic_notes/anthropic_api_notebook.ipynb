{
 "cells": [
  {
   "cell_type": "code",
   "execution_count": 1,
   "id": "bd41ed66",
   "metadata": {},
   "outputs": [
    {
     "name": "stdout",
     "output_type": "stream",
     "text": [
      "Collecting anthropic\n",
      "  Downloading anthropic-0.66.0-py3-none-any.whl.metadata (27 kB)\n",
      "Requirement already satisfied: python-dotenv in c:\\users\\steve\\anaconda3\\lib\\site-packages (1.1.0)\n",
      "Requirement already satisfied: anyio<5,>=3.5.0 in c:\\users\\steve\\anaconda3\\lib\\site-packages (from anthropic) (4.7.0)\n",
      "Requirement already satisfied: distro<2,>=1.7.0 in c:\\users\\steve\\anaconda3\\lib\\site-packages (from anthropic) (1.9.0)\n",
      "Requirement already satisfied: httpx<1,>=0.25.0 in c:\\users\\steve\\anaconda3\\lib\\site-packages (from anthropic) (0.28.1)\n",
      "Collecting jiter<1,>=0.4.0 (from anthropic)\n",
      "  Downloading jiter-0.10.0-cp313-cp313-win_amd64.whl.metadata (5.3 kB)\n",
      "Requirement already satisfied: pydantic<3,>=1.9.0 in c:\\users\\steve\\anaconda3\\lib\\site-packages (from anthropic) (2.10.3)\n",
      "Requirement already satisfied: sniffio in c:\\users\\steve\\anaconda3\\lib\\site-packages (from anthropic) (1.3.0)\n",
      "Requirement already satisfied: typing-extensions<5,>=4.10 in c:\\users\\steve\\anaconda3\\lib\\site-packages (from anthropic) (4.12.2)\n",
      "Requirement already satisfied: idna>=2.8 in c:\\users\\steve\\anaconda3\\lib\\site-packages (from anyio<5,>=3.5.0->anthropic) (3.7)\n",
      "Requirement already satisfied: certifi in c:\\users\\steve\\anaconda3\\lib\\site-packages (from httpx<1,>=0.25.0->anthropic) (2025.8.3)\n",
      "Requirement already satisfied: httpcore==1.* in c:\\users\\steve\\anaconda3\\lib\\site-packages (from httpx<1,>=0.25.0->anthropic) (1.0.9)\n",
      "Requirement already satisfied: h11>=0.16 in c:\\users\\steve\\anaconda3\\lib\\site-packages (from httpcore==1.*->httpx<1,>=0.25.0->anthropic) (0.16.0)\n",
      "Requirement already satisfied: annotated-types>=0.6.0 in c:\\users\\steve\\anaconda3\\lib\\site-packages (from pydantic<3,>=1.9.0->anthropic) (0.6.0)\n",
      "Requirement already satisfied: pydantic-core==2.27.1 in c:\\users\\steve\\anaconda3\\lib\\site-packages (from pydantic<3,>=1.9.0->anthropic) (2.27.1)\n",
      "Downloading anthropic-0.66.0-py3-none-any.whl (308 kB)\n",
      "Downloading jiter-0.10.0-cp313-cp313-win_amd64.whl (205 kB)\n",
      "Installing collected packages: jiter, anthropic\n",
      "\n",
      "   -------------------- ------------------- 1/2 [anthropic]\n",
      "   -------------------- ------------------- 1/2 [anthropic]\n",
      "   -------------------- ------------------- 1/2 [anthropic]\n",
      "   -------------------- ------------------- 1/2 [anthropic]\n",
      "   -------------------- ------------------- 1/2 [anthropic]\n",
      "   -------------------- ------------------- 1/2 [anthropic]\n",
      "   -------------------- ------------------- 1/2 [anthropic]\n",
      "   -------------------- ------------------- 1/2 [anthropic]\n",
      "   ---------------------------------------- 2/2 [anthropic]\n",
      "\n",
      "Successfully installed anthropic-0.66.0 jiter-0.10.0\n",
      "Note: you may need to restart the kernel to use updated packages.\n"
     ]
    }
   ],
   "source": [
    "# install dependencies\n",
    "%pip install anthropic python-dotenv"
   ]
  },
  {
   "cell_type": "code",
   "execution_count": 2,
   "id": "4878b758",
   "metadata": {},
   "outputs": [
    {
     "data": {
      "text/plain": [
       "True"
      ]
     },
     "execution_count": 2,
     "metadata": {},
     "output_type": "execute_result"
    }
   ],
   "source": [
    "# load env vaiables\n",
    "from dotenv import load_dotenv\n",
    "\n",
    "load_dotenv()"
   ]
  },
  {
   "cell_type": "code",
   "execution_count": 4,
   "id": "a0892021",
   "metadata": {},
   "outputs": [],
   "source": [
    "# Create API Client\n",
    "from anthropic import Anthropic\n",
    "\n",
    "client = Anthropic()\n",
    "model=\"claude-sonnet-4-0\"\n"
   ]
  },
  {
   "cell_type": "code",
   "execution_count": 5,
   "id": "6a749f90",
   "metadata": {},
   "outputs": [],
   "source": [
    "# Create a request\n",
    "message = client.messages.create(\n",
    "    model=model,\n",
    "    max_tokens=100,\n",
    "    messages=[\n",
    "        {\n",
    "            'role': 'user',\n",
    "            'content': 'What is quantum computing? Answer in one sentence.'\n",
    "        }\n",
    "    ]\n",
    ")"
   ]
  },
  {
   "cell_type": "code",
   "execution_count": null,
   "id": "6e2721c2",
   "metadata": {},
   "outputs": [
    {
     "data": {
      "text/plain": [
       "Message(id='msg_012iZV36BRukCJYigouxf8Nz', content=[TextBlock(citations=None, text='Quantum computing is a revolutionary computing paradigm that uses quantum mechanical phenomena like superposition and entanglement to process information in ways that can potentially solve certain complex problems exponentially faster than classical computers.', type='text')], model='claude-sonnet-4-20250514', role='assistant', stop_reason='end_turn', stop_sequence=None, type='message', usage=Usage(cache_creation=CacheCreation(ephemeral_1h_input_tokens=0, ephemeral_5m_input_tokens=0), cache_creation_input_tokens=0, cache_read_input_tokens=0, input_tokens=17, output_tokens=43, server_tool_use=None, service_tier='standard'))"
      ]
     },
     "execution_count": 7,
     "metadata": {},
     "output_type": "execute_result"
    }
   ],
   "source": [
    "# print the message\n",
    "message"
   ]
  },
  {
   "cell_type": "code",
   "execution_count": 8,
   "id": "dcfc4c64",
   "metadata": {},
   "outputs": [
    {
     "data": {
      "text/plain": [
       "'Quantum computing is a revolutionary computing paradigm that uses quantum mechanical phenomena like superposition and entanglement to process information in ways that can potentially solve certain complex problems exponentially faster than classical computers.'"
      ]
     },
     "execution_count": 8,
     "metadata": {},
     "output_type": "execute_result"
    }
   ],
   "source": [
    "# isolate just the generated text\n",
    "message.content[0].text"
   ]
  }
 ],
 "metadata": {
  "kernelspec": {
   "display_name": "base",
   "language": "python",
   "name": "python3"
  },
  "language_info": {
   "codemirror_mode": {
    "name": "ipython",
    "version": 3
   },
   "file_extension": ".py",
   "mimetype": "text/x-python",
   "name": "python",
   "nbconvert_exporter": "python",
   "pygments_lexer": "ipython3",
   "version": "3.13.5"
  }
 },
 "nbformat": 4,
 "nbformat_minor": 5
}
